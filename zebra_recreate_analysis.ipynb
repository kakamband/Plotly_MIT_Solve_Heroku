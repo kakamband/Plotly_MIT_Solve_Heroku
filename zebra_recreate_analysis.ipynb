{
 "cells": [
  {
   "cell_type": "code",
   "execution_count": 1,
   "metadata": {
    "ExecuteTime": {
     "end_time": "2020-06-25T17:09:11.269618Z",
     "start_time": "2020-06-25T17:09:10.955271Z"
    }
   },
   "outputs": [],
   "source": [
    "import pandas as pd \n",
    "import numpy as np \n",
    "import zebra \n",
    "import os\n",
    "\n",
    "\n"
   ]
  },
  {
   "cell_type": "markdown",
   "metadata": {
    "ExecuteTime": {
     "end_time": "2020-04-17T00:45:49.362469Z",
     "start_time": "2020-04-17T00:45:49.239677Z"
    }
   },
   "source": [
    "\n",
    "## Partner and solver base data tables \n",
    "\n",
    "Get a data tables for\n",
    "    - solve partner separate table \n",
    "    - individual solvers separate tables \n",
    "    - a dict of regions based on countries \n",
    "   \n",
    "Combine all these into full tables and then you can generate a dataset similar to what MIT solve people have done \n",
    "\n"
   ]
  },
  {
   "cell_type": "markdown",
   "metadata": {
    "ExecuteTime": {
     "end_time": "2020-04-20T02:45:41.932477Z",
     "start_time": "2020-04-20T02:45:41.921106Z"
    }
   },
   "source": [
    "## Partner data \n",
    "\n",
    "Partner data is one of the first core sheets of the dataset. It contains the partner preferences. The raw sheet data is being loaded into a dataframe. We fill the NaN values with 0 using fillna and then print the head of the dataframe. "
   ]
  },
  {
   "cell_type": "code",
   "execution_count": 2,
   "metadata": {
    "ExecuteTime": {
     "end_time": "2020-06-25T17:09:11.283860Z",
     "start_time": "2020-06-25T17:09:11.271134Z"
    }
   },
   "outputs": [
    {
     "output_type": "execute_result",
     "data": {
      "text/plain": "pandas.core.series.Series"
     },
     "metadata": {},
     "execution_count": 2
    }
   ],
   "source": [
    "partners_df = zebra.csv_to_df(\"partner_data.csv\")\n",
    "\n",
    "# filled nan with 0 \n",
    "partners_df = partners_df.fillna(0)\n",
    "partners_df.head()\n",
    "type(partners_df[\"Org\"])"
   ]
  },
  {
   "cell_type": "markdown",
   "metadata": {},
   "source": [
    "## Solver team data\n",
    "The same procedure that we applied to the partner data sheet. "
   ]
  },
  {
   "cell_type": "code",
   "execution_count": 3,
   "metadata": {
    "ExecuteTime": {
     "end_time": "2020-06-25T17:09:11.300451Z",
     "start_time": "2020-06-25T17:09:11.285381Z"
    }
   },
   "outputs": [
    {
     "output_type": "execute_result",
     "data": {
      "text/plain": "                                     Org                            Geo 1  \\\n0          AIR-INK: Air-Pollution to ink                       South Asia   \n1  Algramo-Catalyzing Reusable Packaging  Latin America and the Caribbean   \n2                          BioCellection                    US and Canada   \n3                               Mycotech          East and Southeast Asia   \n4                           Queen of Raw                    US and Canada   \n\n                     Geo 2       Geo 3                    Geo 4  Geo 5  Geo 6  \\\n0            US and Canada           0                        0    0.0    0.0   \n1                        0           0                        0    0.0    0.0   \n2                        0           0                        0    0.0    0.0   \n3                        0           0                        0    0.0    0.0   \n4  Europe and Central Asia  South Asia  East and Southeast Asia    0.0    0.0   \n\n   Geo 7   Stage    Key Need 1      Key Need 2  \\\n0    0.0  Growth    Technology               0   \n1    0.0  Growth         Other  Business model   \n2    0.0   Pilot    Technology    Distribution   \n3    0.0   Pilot  Distribution  Business model   \n4    0.0   Pilot  Distribution      Technology   \n\n                       Key Need 3                      Key Need 4 Key Need 5  \\\n0                               0                               0          0   \n1                               0                               0          0   \n2                           Legal  Marketing, Media, and Exposure          0   \n3  Marketing, Media, and Exposure                               0          0   \n4                       Financial                               0          0   \n\n  Key Need 6 Key Need 7         Challenge  \\\n0          0          0  Circular Economy   \n1          0          0  Circular Economy   \n2          0          0  Circular Economy   \n3          0          0  Circular Economy   \n4          0          0  Circular Economy   \n\n                                          Technology  \n0                     Biomimicry; Internet of Things  \n1  Behavioral Technology; Big Data; Internet of T...  \n2                     Biotechnology / Bioengineering  \n3                                  Materials Science  \n4  Artificial Intelligence / Machine Learning; Bi...  ",
      "text/html": "<div>\n<style scoped>\n    .dataframe tbody tr th:only-of-type {\n        vertical-align: middle;\n    }\n\n    .dataframe tbody tr th {\n        vertical-align: top;\n    }\n\n    .dataframe thead th {\n        text-align: right;\n    }\n</style>\n<table border=\"1\" class=\"dataframe\">\n  <thead>\n    <tr style=\"text-align: right;\">\n      <th></th>\n      <th>Org</th>\n      <th>Geo 1</th>\n      <th>Geo 2</th>\n      <th>Geo 3</th>\n      <th>Geo 4</th>\n      <th>Geo 5</th>\n      <th>Geo 6</th>\n      <th>Geo 7</th>\n      <th>Stage</th>\n      <th>Key Need 1</th>\n      <th>Key Need 2</th>\n      <th>Key Need 3</th>\n      <th>Key Need 4</th>\n      <th>Key Need 5</th>\n      <th>Key Need 6</th>\n      <th>Key Need 7</th>\n      <th>Challenge</th>\n      <th>Technology</th>\n    </tr>\n  </thead>\n  <tbody>\n    <tr>\n      <th>0</th>\n      <td>AIR-INK: Air-Pollution to ink</td>\n      <td>South Asia</td>\n      <td>US and Canada</td>\n      <td>0</td>\n      <td>0</td>\n      <td>0.0</td>\n      <td>0.0</td>\n      <td>0.0</td>\n      <td>Growth</td>\n      <td>Technology</td>\n      <td>0</td>\n      <td>0</td>\n      <td>0</td>\n      <td>0</td>\n      <td>0</td>\n      <td>0</td>\n      <td>Circular Economy</td>\n      <td>Biomimicry; Internet of Things</td>\n    </tr>\n    <tr>\n      <th>1</th>\n      <td>Algramo-Catalyzing Reusable Packaging</td>\n      <td>Latin America and the Caribbean</td>\n      <td>0</td>\n      <td>0</td>\n      <td>0</td>\n      <td>0.0</td>\n      <td>0.0</td>\n      <td>0.0</td>\n      <td>Growth</td>\n      <td>Other</td>\n      <td>Business model</td>\n      <td>0</td>\n      <td>0</td>\n      <td>0</td>\n      <td>0</td>\n      <td>0</td>\n      <td>Circular Economy</td>\n      <td>Behavioral Technology; Big Data; Internet of T...</td>\n    </tr>\n    <tr>\n      <th>2</th>\n      <td>BioCellection</td>\n      <td>US and Canada</td>\n      <td>0</td>\n      <td>0</td>\n      <td>0</td>\n      <td>0.0</td>\n      <td>0.0</td>\n      <td>0.0</td>\n      <td>Pilot</td>\n      <td>Technology</td>\n      <td>Distribution</td>\n      <td>Legal</td>\n      <td>Marketing, Media, and Exposure</td>\n      <td>0</td>\n      <td>0</td>\n      <td>0</td>\n      <td>Circular Economy</td>\n      <td>Biotechnology / Bioengineering</td>\n    </tr>\n    <tr>\n      <th>3</th>\n      <td>Mycotech</td>\n      <td>East and Southeast Asia</td>\n      <td>0</td>\n      <td>0</td>\n      <td>0</td>\n      <td>0.0</td>\n      <td>0.0</td>\n      <td>0.0</td>\n      <td>Pilot</td>\n      <td>Distribution</td>\n      <td>Business model</td>\n      <td>Marketing, Media, and Exposure</td>\n      <td>0</td>\n      <td>0</td>\n      <td>0</td>\n      <td>0</td>\n      <td>Circular Economy</td>\n      <td>Materials Science</td>\n    </tr>\n    <tr>\n      <th>4</th>\n      <td>Queen of Raw</td>\n      <td>US and Canada</td>\n      <td>Europe and Central Asia</td>\n      <td>South Asia</td>\n      <td>East and Southeast Asia</td>\n      <td>0.0</td>\n      <td>0.0</td>\n      <td>0.0</td>\n      <td>Pilot</td>\n      <td>Distribution</td>\n      <td>Technology</td>\n      <td>Financial</td>\n      <td>0</td>\n      <td>0</td>\n      <td>0</td>\n      <td>0</td>\n      <td>Circular Economy</td>\n      <td>Artificial Intelligence / Machine Learning; Bi...</td>\n    </tr>\n  </tbody>\n</table>\n</div>"
     },
     "metadata": {},
     "execution_count": 3
    }
   ],
   "source": [
    "solver_df = zebra.csv_to_df(\"solver_team_data.csv\")\n",
    "\n",
    "# filled nan with 0 \n",
    "solver_df = solver_df.fillna(0)\n",
    "solver_df.head()"
   ]
  },
  {
   "cell_type": "markdown",
   "metadata": {},
   "source": [
    "# Generate geo sheet using partner and solver data \n"
   ]
  },
  {
   "cell_type": "markdown",
   "metadata": {},
   "source": [
    "### Get geo choices for solvers\n"
   ]
  },
  {
   "cell_type": "code",
   "execution_count": 4,
   "metadata": {
    "ExecuteTime": {
     "end_time": "2020-06-25T17:09:11.316586Z",
     "start_time": "2020-06-25T17:09:11.301290Z"
    }
   },
   "outputs": [
    {
     "output_type": "execute_result",
     "data": {
      "text/plain": "      AIR-INK: Air-Pollution to ink Algramo-Catalyzing Reusable Packaging  \\\nGeo 1                    South Asia       Latin America and the Caribbean   \nGeo 2                 US and Canada                                     0   \nGeo 3                             0                                     0   \nGeo 4                             0                                     0   \nGeo 5                             0                                     0   \n\n       BioCellection                 Mycotech             Queen of Raw  \\\nGeo 1  US and Canada  East and Southeast Asia            US and Canada   \nGeo 2              0                        0  Europe and Central Asia   \nGeo 3              0                        0               South Asia   \nGeo 4              0                        0  East and Southeast Asia   \nGeo 5              0                        0                        0   \n\n      Renewal Workshop        Rheaply                          Xilinat  \\\nGeo 1    US and Canada  US and Canada  Latin America and the Caribbean   \nGeo 2                0              0                                0   \nGeo 3                0              0                                0   \nGeo 4                0              0                                0   \nGeo 5                0              0                                0   \n\n                Aira              Elpis Solar  ... OneSky Caregiver Training  \\\nGeo 1  US and Canada       Sub-Saharan Africa  ...   East and Southeast Asia   \nGeo 2              0  Europe and Central Asia  ...                         0   \nGeo 3              0                        0  ...                         0   \nGeo 4              0                        0  ...                         0   \nGeo 5              0                        0  ...                         0   \n\n            Tabshoura Tiny Thinkers Blue Sky Analytics  CareMother  \\\nGeo 1  Middle East and North Africa         South Asia  South Asia   \nGeo 2                             0                  0           0   \nGeo 3                             0                  0           0   \nGeo 4                             0                  0           0   \nGeo 5                             0                  0           0   \n\n      change:WATER Labs' iThrone: a waste-shrinking toilet  \\\nGeo 1                                 Sub-Saharan Africa     \nGeo 2                                                  0     \nGeo 3                                                  0     \nGeo 4                                                  0     \nGeo 5                                                  0     \n\n                   Faircap Clean Water     OmniVis       RAAJI  \\\nGeo 1  Latin America and the Caribbean  South Asia  South Asia   \nGeo 2               Sub-Saharan Africa           0           0   \nGeo 3                                0           0           0   \nGeo 4                                0           0           0   \nGeo 5                                0           0           0   \n\n             Salauno: Eye care for all       Shape-Up  \nGeo 1  Latin America and the Caribbean  US and Canada  \nGeo 2                                0              0  \nGeo 3                                0              0  \nGeo 4                                0              0  \nGeo 5                                0              0  \n\n[5 rows x 32 columns]",
      "text/html": "<div>\n<style scoped>\n    .dataframe tbody tr th:only-of-type {\n        vertical-align: middle;\n    }\n\n    .dataframe tbody tr th {\n        vertical-align: top;\n    }\n\n    .dataframe thead th {\n        text-align: right;\n    }\n</style>\n<table border=\"1\" class=\"dataframe\">\n  <thead>\n    <tr style=\"text-align: right;\">\n      <th></th>\n      <th>AIR-INK: Air-Pollution to ink</th>\n      <th>Algramo-Catalyzing Reusable Packaging</th>\n      <th>BioCellection</th>\n      <th>Mycotech</th>\n      <th>Queen of Raw</th>\n      <th>Renewal Workshop</th>\n      <th>Rheaply</th>\n      <th>Xilinat</th>\n      <th>Aira</th>\n      <th>Elpis Solar</th>\n      <th>...</th>\n      <th>OneSky Caregiver Training</th>\n      <th>Tabshoura Tiny Thinkers</th>\n      <th>Blue Sky Analytics</th>\n      <th>CareMother</th>\n      <th>change:WATER Labs' iThrone: a waste-shrinking toilet</th>\n      <th>Faircap Clean Water</th>\n      <th>OmniVis</th>\n      <th>RAAJI</th>\n      <th>Salauno: Eye care for all</th>\n      <th>Shape-Up</th>\n    </tr>\n  </thead>\n  <tbody>\n    <tr>\n      <th>Geo 1</th>\n      <td>South Asia</td>\n      <td>Latin America and the Caribbean</td>\n      <td>US and Canada</td>\n      <td>East and Southeast Asia</td>\n      <td>US and Canada</td>\n      <td>US and Canada</td>\n      <td>US and Canada</td>\n      <td>Latin America and the Caribbean</td>\n      <td>US and Canada</td>\n      <td>Sub-Saharan Africa</td>\n      <td>...</td>\n      <td>East and Southeast Asia</td>\n      <td>Middle East and North Africa</td>\n      <td>South Asia</td>\n      <td>South Asia</td>\n      <td>Sub-Saharan Africa</td>\n      <td>Latin America and the Caribbean</td>\n      <td>South Asia</td>\n      <td>South Asia</td>\n      <td>Latin America and the Caribbean</td>\n      <td>US and Canada</td>\n    </tr>\n    <tr>\n      <th>Geo 2</th>\n      <td>US and Canada</td>\n      <td>0</td>\n      <td>0</td>\n      <td>0</td>\n      <td>Europe and Central Asia</td>\n      <td>0</td>\n      <td>0</td>\n      <td>0</td>\n      <td>0</td>\n      <td>Europe and Central Asia</td>\n      <td>...</td>\n      <td>0</td>\n      <td>0</td>\n      <td>0</td>\n      <td>0</td>\n      <td>0</td>\n      <td>Sub-Saharan Africa</td>\n      <td>0</td>\n      <td>0</td>\n      <td>0</td>\n      <td>0</td>\n    </tr>\n    <tr>\n      <th>Geo 3</th>\n      <td>0</td>\n      <td>0</td>\n      <td>0</td>\n      <td>0</td>\n      <td>South Asia</td>\n      <td>0</td>\n      <td>0</td>\n      <td>0</td>\n      <td>0</td>\n      <td>0</td>\n      <td>...</td>\n      <td>0</td>\n      <td>0</td>\n      <td>0</td>\n      <td>0</td>\n      <td>0</td>\n      <td>0</td>\n      <td>0</td>\n      <td>0</td>\n      <td>0</td>\n      <td>0</td>\n    </tr>\n    <tr>\n      <th>Geo 4</th>\n      <td>0</td>\n      <td>0</td>\n      <td>0</td>\n      <td>0</td>\n      <td>East and Southeast Asia</td>\n      <td>0</td>\n      <td>0</td>\n      <td>0</td>\n      <td>0</td>\n      <td>0</td>\n      <td>...</td>\n      <td>0</td>\n      <td>0</td>\n      <td>0</td>\n      <td>0</td>\n      <td>0</td>\n      <td>0</td>\n      <td>0</td>\n      <td>0</td>\n      <td>0</td>\n      <td>0</td>\n    </tr>\n    <tr>\n      <th>Geo 5</th>\n      <td>0</td>\n      <td>0</td>\n      <td>0</td>\n      <td>0</td>\n      <td>0</td>\n      <td>0</td>\n      <td>0</td>\n      <td>0</td>\n      <td>0</td>\n      <td>0</td>\n      <td>...</td>\n      <td>0</td>\n      <td>0</td>\n      <td>0</td>\n      <td>0</td>\n      <td>0</td>\n      <td>0</td>\n      <td>0</td>\n      <td>0</td>\n      <td>0</td>\n      <td>0</td>\n    </tr>\n  </tbody>\n</table>\n<p>5 rows × 32 columns</p>\n</div>"
     },
     "metadata": {},
     "execution_count": 4
    }
   ],
   "source": [
    "solver_geo = zebra.solver_geo_df(solver_df)\n",
    "solver_geo.head()"
   ]
  },
  {
   "cell_type": "markdown",
   "metadata": {
    "ExecuteTime": {
     "end_time": "2020-04-20T03:18:57.219488Z",
     "start_time": "2020-04-20T03:18:57.216623Z"
    }
   },
   "source": [
    "## Geo choice for partners\n",
    "\n",
    "Get geo choices from the partners dataframe. \n"
   ]
  },
  {
   "cell_type": "code",
   "execution_count": 5,
   "metadata": {
    "ExecuteTime": {
     "end_time": "2020-06-25T17:09:11.327308Z",
     "start_time": "2020-06-25T17:09:11.317425Z"
    }
   },
   "outputs": [
    {
     "output_type": "execute_result",
     "data": {
      "text/plain": "                             Org                    Geo Interests\n0             Aditya Birla Group                    US and Canada\n1             Aditya Birla Group          Europe and Central Asia\n2             Aditya Birla Group          East and Southeast Asia\n3  BMW Foundation Herbert Quandt                    US and Canada\n4  BMW Foundation Herbert Quandt  Latin America and the Caribbean",
      "text/html": "<div>\n<style scoped>\n    .dataframe tbody tr th:only-of-type {\n        vertical-align: middle;\n    }\n\n    .dataframe tbody tr th {\n        vertical-align: top;\n    }\n\n    .dataframe thead th {\n        text-align: right;\n    }\n</style>\n<table border=\"1\" class=\"dataframe\">\n  <thead>\n    <tr style=\"text-align: right;\">\n      <th></th>\n      <th>Org</th>\n      <th>Geo Interests</th>\n    </tr>\n  </thead>\n  <tbody>\n    <tr>\n      <th>0</th>\n      <td>Aditya Birla Group</td>\n      <td>US and Canada</td>\n    </tr>\n    <tr>\n      <th>1</th>\n      <td>Aditya Birla Group</td>\n      <td>Europe and Central Asia</td>\n    </tr>\n    <tr>\n      <th>2</th>\n      <td>Aditya Birla Group</td>\n      <td>East and Southeast Asia</td>\n    </tr>\n    <tr>\n      <th>3</th>\n      <td>BMW Foundation Herbert Quandt</td>\n      <td>US and Canada</td>\n    </tr>\n    <tr>\n      <th>4</th>\n      <td>BMW Foundation Herbert Quandt</td>\n      <td>Latin America and the Caribbean</td>\n    </tr>\n  </tbody>\n</table>\n</div>"
     },
     "metadata": {},
     "execution_count": 5
    }
   ],
   "source": [
    "partners_geo = zebra.partner_geo_df(partners_df)\n",
    "partners_geo.head()"
   ]
  },
  {
   "cell_type": "markdown",
   "metadata": {
    "ExecuteTime": {
     "end_time": "2020-04-20T19:24:03.593388Z",
     "start_time": "2020-04-20T19:24:03.589148Z"
    }
   },
   "source": [
    "## Pivot table for geo choices\n",
    "\n",
    "Now that we have both the geo choices for the partners and the solvers, we need to generate a contingency table. We will use a pivot table to combine both geo-choices. \n",
    "\n",
    "The first step in generating the pivot table is to convert the solvers geo choices table to a list (not a python list). As you see above, the partners geo choices is a list with Org being the first column and the second column being geo interest.\n",
    "\n",
    "We need to convert the solvers geo choices to a similar dataframe. This is done using the ```solver_regions_listform()```  function. This function use the pandas function melt to convert a contingency table to to a list form. This is the equivalent of converting a pivot table to an unpivoted table.\n"
   ]
  },
  {
   "cell_type": "code",
   "execution_count": 6,
   "metadata": {
    "ExecuteTime": {
     "end_time": "2020-06-25T17:09:11.343934Z",
     "start_time": "2020-06-25T17:09:11.328095Z"
    }
   },
   "outputs": [
    {
     "output_type": "execute_result",
     "data": {
      "text/plain": "   geo                                    Org  \\\n0    1          AIR-INK: Air-Pollution to ink   \n1    2          AIR-INK: Air-Pollution to ink   \n2    3          AIR-INK: Air-Pollution to ink   \n3    4          AIR-INK: Air-Pollution to ink   \n4    5          AIR-INK: Air-Pollution to ink   \n5    6          AIR-INK: Air-Pollution to ink   \n6    7          AIR-INK: Air-Pollution to ink   \n7    1  Algramo-Catalyzing Reusable Packaging   \n8    2  Algramo-Catalyzing Reusable Packaging   \n9    3  Algramo-Catalyzing Reusable Packaging   \n10   4  Algramo-Catalyzing Reusable Packaging   \n11   5  Algramo-Catalyzing Reusable Packaging   \n12   6  Algramo-Catalyzing Reusable Packaging   \n13   7  Algramo-Catalyzing Reusable Packaging   \n14   1                          BioCellection   \n15   2                          BioCellection   \n16   3                          BioCellection   \n17   4                          BioCellection   \n18   5                          BioCellection   \n19   6                          BioCellection   \n\n                              match                           geo_match  \n0                        South Asia                        1,South Asia  \n1                     US and Canada                     2,US and Canada  \n2                                 0                                 3,0  \n3                                 0                                 4,0  \n4                                 0                               5,0.0  \n5                                 0                               6,0.0  \n6                                 0                               7,0.0  \n7   Latin America and the Caribbean   1,Latin America and the Caribbean  \n8                                 0                                 2,0  \n9                                 0                                 3,0  \n10                                0                                 4,0  \n11                                0                               5,0.0  \n12                                0                               6,0.0  \n13                                0                               7,0.0  \n14                    US and Canada                     1,US and Canada  \n15                                0                                 2,0  \n16                                0                                 3,0  \n17                                0                                 4,0  \n18                                0                               5,0.0  \n19                                0                               6,0.0  ",
      "text/html": "<div>\n<style scoped>\n    .dataframe tbody tr th:only-of-type {\n        vertical-align: middle;\n    }\n\n    .dataframe tbody tr th {\n        vertical-align: top;\n    }\n\n    .dataframe thead th {\n        text-align: right;\n    }\n</style>\n<table border=\"1\" class=\"dataframe\">\n  <thead>\n    <tr style=\"text-align: right;\">\n      <th></th>\n      <th>geo</th>\n      <th>Org</th>\n      <th>match</th>\n      <th>geo_match</th>\n    </tr>\n  </thead>\n  <tbody>\n    <tr>\n      <th>0</th>\n      <td>1</td>\n      <td>AIR-INK: Air-Pollution to ink</td>\n      <td>South Asia</td>\n      <td>1,South Asia</td>\n    </tr>\n    <tr>\n      <th>1</th>\n      <td>2</td>\n      <td>AIR-INK: Air-Pollution to ink</td>\n      <td>US and Canada</td>\n      <td>2,US and Canada</td>\n    </tr>\n    <tr>\n      <th>2</th>\n      <td>3</td>\n      <td>AIR-INK: Air-Pollution to ink</td>\n      <td>0</td>\n      <td>3,0</td>\n    </tr>\n    <tr>\n      <th>3</th>\n      <td>4</td>\n      <td>AIR-INK: Air-Pollution to ink</td>\n      <td>0</td>\n      <td>4,0</td>\n    </tr>\n    <tr>\n      <th>4</th>\n      <td>5</td>\n      <td>AIR-INK: Air-Pollution to ink</td>\n      <td>0</td>\n      <td>5,0.0</td>\n    </tr>\n    <tr>\n      <th>5</th>\n      <td>6</td>\n      <td>AIR-INK: Air-Pollution to ink</td>\n      <td>0</td>\n      <td>6,0.0</td>\n    </tr>\n    <tr>\n      <th>6</th>\n      <td>7</td>\n      <td>AIR-INK: Air-Pollution to ink</td>\n      <td>0</td>\n      <td>7,0.0</td>\n    </tr>\n    <tr>\n      <th>7</th>\n      <td>1</td>\n      <td>Algramo-Catalyzing Reusable Packaging</td>\n      <td>Latin America and the Caribbean</td>\n      <td>1,Latin America and the Caribbean</td>\n    </tr>\n    <tr>\n      <th>8</th>\n      <td>2</td>\n      <td>Algramo-Catalyzing Reusable Packaging</td>\n      <td>0</td>\n      <td>2,0</td>\n    </tr>\n    <tr>\n      <th>9</th>\n      <td>3</td>\n      <td>Algramo-Catalyzing Reusable Packaging</td>\n      <td>0</td>\n      <td>3,0</td>\n    </tr>\n    <tr>\n      <th>10</th>\n      <td>4</td>\n      <td>Algramo-Catalyzing Reusable Packaging</td>\n      <td>0</td>\n      <td>4,0</td>\n    </tr>\n    <tr>\n      <th>11</th>\n      <td>5</td>\n      <td>Algramo-Catalyzing Reusable Packaging</td>\n      <td>0</td>\n      <td>5,0.0</td>\n    </tr>\n    <tr>\n      <th>12</th>\n      <td>6</td>\n      <td>Algramo-Catalyzing Reusable Packaging</td>\n      <td>0</td>\n      <td>6,0.0</td>\n    </tr>\n    <tr>\n      <th>13</th>\n      <td>7</td>\n      <td>Algramo-Catalyzing Reusable Packaging</td>\n      <td>0</td>\n      <td>7,0.0</td>\n    </tr>\n    <tr>\n      <th>14</th>\n      <td>1</td>\n      <td>BioCellection</td>\n      <td>US and Canada</td>\n      <td>1,US and Canada</td>\n    </tr>\n    <tr>\n      <th>15</th>\n      <td>2</td>\n      <td>BioCellection</td>\n      <td>0</td>\n      <td>2,0</td>\n    </tr>\n    <tr>\n      <th>16</th>\n      <td>3</td>\n      <td>BioCellection</td>\n      <td>0</td>\n      <td>3,0</td>\n    </tr>\n    <tr>\n      <th>17</th>\n      <td>4</td>\n      <td>BioCellection</td>\n      <td>0</td>\n      <td>4,0</td>\n    </tr>\n    <tr>\n      <th>18</th>\n      <td>5</td>\n      <td>BioCellection</td>\n      <td>0</td>\n      <td>5,0.0</td>\n    </tr>\n    <tr>\n      <th>19</th>\n      <td>6</td>\n      <td>BioCellection</td>\n      <td>0</td>\n      <td>6,0.0</td>\n    </tr>\n  </tbody>\n</table>\n</div>"
     },
     "metadata": {},
     "execution_count": 6
    }
   ],
   "source": [
    "unpivoted_solver_geo = zebra.solver_regions_listform(solver_geo, solver_df)\n",
    "unpivoted_solver_geo.head(20)"
   ]
  },
  {
   "cell_type": "markdown",
   "metadata": {},
   "source": [
    "Once we have both geo preferences for solvers and partners, we generate a pivot table using the ```  pivot_table_geo()``` function. This function uses a outer join to combine the merge both the solver geo and partners geo tables into a single table. This table should be similar to the geo_match table from excel_to_csv folder.\n",
    "\n",
    "We also have the option of exporting the pivot table to a csv file which we choose to set as False for now since we have already exported it the first time around. The head of the dataframe is also printed so you \n",
    "can take a look at some of the elements and compared.\n"
   ]
  },
  {
   "cell_type": "code",
   "execution_count": 7,
   "metadata": {
    "ExecuteTime": {
     "end_time": "2020-06-25T17:09:11.484504Z",
     "start_time": "2020-06-25T17:09:11.345035Z"
    },
    "scrolled": false
   },
   "outputs": [
    {
     "output_type": "execute_result",
     "data": {
      "text/plain": "Org_x                                               AIR-INK: Air-Pollution to ink  \\\nOrg_y                                                                               \nAditya Birla Group                                                              1   \nBMW Foundation Herbert Quandt                                                   1   \nBuenos Aires Innovation Park (City of Buenos Ai...                              0   \nC L Sandberg & Associates                                                       1   \nCapital One                                                                     1   \n\nOrg_x                                               Aira  \\\nOrg_y                                                      \nAditya Birla Group                                     1   \nBMW Foundation Herbert Quandt                          1   \nBuenos Aires Innovation Park (City of Buenos Ai...     0   \nC L Sandberg & Associates                              1   \nCapital One                                            1   \n\nOrg_x                                               Algramo-Catalyzing Reusable Packaging  \\\nOrg_y                                                                                       \nAditya Birla Group                                                                      0   \nBMW Foundation Herbert Quandt                                                           1   \nBuenos Aires Innovation Park (City of Buenos Ai...                                      1   \nC L Sandberg & Associates                                                               0   \nCapital One                                                                             0   \n\nOrg_x                                               BioCellection  \\\nOrg_y                                                               \nAditya Birla Group                                              1   \nBMW Foundation Herbert Quandt                                   1   \nBuenos Aires Innovation Park (City of Buenos Ai...              0   \nC L Sandberg & Associates                                       1   \nCapital One                                                     1   \n\nOrg_x                                               Blue Sky Analytics  \\\nOrg_y                                                                    \nAditya Birla Group                                                   0   \nBMW Foundation Herbert Quandt                                        0   \nBuenos Aires Innovation Park (City of Buenos Ai...                   0   \nC L Sandberg & Associates                                            0   \nCapital One                                                          0   \n\nOrg_x                                               CareMother  \\\nOrg_y                                                            \nAditya Birla Group                                           0   \nBMW Foundation Herbert Quandt                                0   \nBuenos Aires Innovation Park (City of Buenos Ai...           0   \nC L Sandberg & Associates                                    0   \nCapital One                                                  0   \n\nOrg_x                                               Dost Education  EarlyBird  \\\nOrg_y                                                                           \nAditya Birla Group                                               0          1   \nBMW Foundation Herbert Quandt                                    0          1   \nBuenos Aires Innovation Park (City of Buenos Ai...               0          0   \nC L Sandberg & Associates                                        0          1   \nCapital One                                                      0          1   \n\nOrg_x                                               Elpis Solar  \\\nOrg_y                                                             \nAditya Birla Group                                            1   \nBMW Foundation Herbert Quandt                                 2   \nBuenos Aires Innovation Park (City of Buenos Ai...            0   \nC L Sandberg & Associates                                     0   \nCapital One                                                   0   \n\nOrg_x                                               Faircap Clean Water  ...  \\\nOrg_y                                                                    ...   \nAditya Birla Group                                                    0  ...   \nBMW Foundation Herbert Quandt                                         2  ...   \nBuenos Aires Innovation Park (City of Buenos Ai...                    1  ...   \nC L Sandberg & Associates                                             0  ...   \nCapital One                                                           0  ...   \n\nOrg_x                                               RevelaGov  Rheaply  \\\nOrg_y                                                                    \nAditya Birla Group                                          0        1   \nBMW Foundation Herbert Quandt                               1        1   \nBuenos Aires Innovation Park (City of Buenos Ai...          1        0   \nC L Sandberg & Associates                                   0        1   \nCapital One                                                 0        1   \n\nOrg_x                                               Salauno: Eye care for all  \\\nOrg_y                                                                           \nAditya Birla Group                                                          0   \nBMW Foundation Herbert Quandt                                               1   \nBuenos Aires Innovation Park (City of Buenos Ai...                          1   \nC L Sandberg & Associates                                                   0   \nCapital One                                                                 0   \n\nOrg_x                                               Shape-Up  \\\nOrg_y                                                          \nAditya Birla Group                                         1   \nBMW Foundation Herbert Quandt                              1   \nBuenos Aires Innovation Park (City of Buenos Ai...         0   \nC L Sandberg & Associates                                  1   \nCapital One                                                1   \n\nOrg_x                                               Supercivicos app  \\\nOrg_y                                                                  \nAditya Birla Group                                                 0   \nBMW Foundation Herbert Quandt                                      1   \nBuenos Aires Innovation Park (City of Buenos Ai...                 1   \nC L Sandberg & Associates                                          0   \nCapital One                                                        0   \n\nOrg_x                                               Tabshoura Tiny Thinkers  \\\nOrg_y                                                                         \nAditya Birla Group                                                        0   \nBMW Foundation Herbert Quandt                                             1   \nBuenos Aires Innovation Park (City of Buenos Ai...                        0   \nC L Sandberg & Associates                                                 0   \nCapital One                                                               0   \n\nOrg_x                                               The Future is Offline  \\\nOrg_y                                                                       \nAditya Birla Group                                                      0   \nBMW Foundation Herbert Quandt                                           1   \nBuenos Aires Innovation Park (City of Buenos Ai...                      0   \nC L Sandberg & Associates                                               0   \nCapital One                                                             0   \n\nOrg_x                                               WheeLog!  Xilinat  \\\nOrg_y                                                                   \nAditya Birla Group                                         1        0   \nBMW Foundation Herbert Quandt                              1        1   \nBuenos Aires Innovation Park (City of Buenos Ai...         0        1   \nC L Sandberg & Associates                                  0        0   \nCapital One                                                0        0   \n\nOrg_x                                               change:WATER Labs' iThrone: a waste-shrinking toilet  \nOrg_y                                                                                                     \nAditya Birla Group                                                                                  0     \nBMW Foundation Herbert Quandt                                                                       1     \nBuenos Aires Innovation Park (City of Buenos Ai...                                                  0     \nC L Sandberg & Associates                                                                           0     \nCapital One                                                                                         0     \n\n[5 rows x 32 columns]",
      "text/html": "<div>\n<style scoped>\n    .dataframe tbody tr th:only-of-type {\n        vertical-align: middle;\n    }\n\n    .dataframe tbody tr th {\n        vertical-align: top;\n    }\n\n    .dataframe thead th {\n        text-align: right;\n    }\n</style>\n<table border=\"1\" class=\"dataframe\">\n  <thead>\n    <tr style=\"text-align: right;\">\n      <th>Org_x</th>\n      <th>AIR-INK: Air-Pollution to ink</th>\n      <th>Aira</th>\n      <th>Algramo-Catalyzing Reusable Packaging</th>\n      <th>BioCellection</th>\n      <th>Blue Sky Analytics</th>\n      <th>CareMother</th>\n      <th>Dost Education</th>\n      <th>EarlyBird</th>\n      <th>Elpis Solar</th>\n      <th>Faircap Clean Water</th>\n      <th>...</th>\n      <th>RevelaGov</th>\n      <th>Rheaply</th>\n      <th>Salauno: Eye care for all</th>\n      <th>Shape-Up</th>\n      <th>Supercivicos app</th>\n      <th>Tabshoura Tiny Thinkers</th>\n      <th>The Future is Offline</th>\n      <th>WheeLog!</th>\n      <th>Xilinat</th>\n      <th>change:WATER Labs' iThrone: a waste-shrinking toilet</th>\n    </tr>\n    <tr>\n      <th>Org_y</th>\n      <th></th>\n      <th></th>\n      <th></th>\n      <th></th>\n      <th></th>\n      <th></th>\n      <th></th>\n      <th></th>\n      <th></th>\n      <th></th>\n      <th></th>\n      <th></th>\n      <th></th>\n      <th></th>\n      <th></th>\n      <th></th>\n      <th></th>\n      <th></th>\n      <th></th>\n      <th></th>\n      <th></th>\n    </tr>\n  </thead>\n  <tbody>\n    <tr>\n      <th>Aditya Birla Group</th>\n      <td>1</td>\n      <td>1</td>\n      <td>0</td>\n      <td>1</td>\n      <td>0</td>\n      <td>0</td>\n      <td>0</td>\n      <td>1</td>\n      <td>1</td>\n      <td>0</td>\n      <td>...</td>\n      <td>0</td>\n      <td>1</td>\n      <td>0</td>\n      <td>1</td>\n      <td>0</td>\n      <td>0</td>\n      <td>0</td>\n      <td>1</td>\n      <td>0</td>\n      <td>0</td>\n    </tr>\n    <tr>\n      <th>BMW Foundation Herbert Quandt</th>\n      <td>1</td>\n      <td>1</td>\n      <td>1</td>\n      <td>1</td>\n      <td>0</td>\n      <td>0</td>\n      <td>0</td>\n      <td>1</td>\n      <td>2</td>\n      <td>2</td>\n      <td>...</td>\n      <td>1</td>\n      <td>1</td>\n      <td>1</td>\n      <td>1</td>\n      <td>1</td>\n      <td>1</td>\n      <td>1</td>\n      <td>1</td>\n      <td>1</td>\n      <td>1</td>\n    </tr>\n    <tr>\n      <th>Buenos Aires Innovation Park (City of Buenos Aires Government)</th>\n      <td>0</td>\n      <td>0</td>\n      <td>1</td>\n      <td>0</td>\n      <td>0</td>\n      <td>0</td>\n      <td>0</td>\n      <td>0</td>\n      <td>0</td>\n      <td>1</td>\n      <td>...</td>\n      <td>1</td>\n      <td>0</td>\n      <td>1</td>\n      <td>0</td>\n      <td>1</td>\n      <td>0</td>\n      <td>0</td>\n      <td>0</td>\n      <td>1</td>\n      <td>0</td>\n    </tr>\n    <tr>\n      <th>C L Sandberg &amp; Associates</th>\n      <td>1</td>\n      <td>1</td>\n      <td>0</td>\n      <td>1</td>\n      <td>0</td>\n      <td>0</td>\n      <td>0</td>\n      <td>1</td>\n      <td>0</td>\n      <td>0</td>\n      <td>...</td>\n      <td>0</td>\n      <td>1</td>\n      <td>0</td>\n      <td>1</td>\n      <td>0</td>\n      <td>0</td>\n      <td>0</td>\n      <td>0</td>\n      <td>0</td>\n      <td>0</td>\n    </tr>\n    <tr>\n      <th>Capital One</th>\n      <td>1</td>\n      <td>1</td>\n      <td>0</td>\n      <td>1</td>\n      <td>0</td>\n      <td>0</td>\n      <td>0</td>\n      <td>1</td>\n      <td>0</td>\n      <td>0</td>\n      <td>...</td>\n      <td>0</td>\n      <td>1</td>\n      <td>0</td>\n      <td>1</td>\n      <td>0</td>\n      <td>0</td>\n      <td>0</td>\n      <td>0</td>\n      <td>0</td>\n      <td>0</td>\n    </tr>\n  </tbody>\n</table>\n<p>5 rows × 32 columns</p>\n</div>"
     },
     "metadata": {},
     "execution_count": 7
    }
   ],
   "source": [
    "_,geo_pivot_copy = zebra.pivot_table_geo(unpivoted_solver_geo,\n",
    "                                         partners_geo,\n",
    "                                         export=False)\n",
    "geo_pivot_copy.head()"
   ]
  },
  {
   "cell_type": "markdown",
   "metadata": {},
   "source": [
    "The geographical preference feature requires a little more playing around with since there are multiple options for each solver and there are multiple regions for the partners. Another feature that is similar to geo preferences is the needs match which also has multiple options for a single solver or partner. \n"
   ]
  },
  {
   "cell_type": "markdown",
   "metadata": {},
   "source": [
    "# Needs match sheet\n",
    "\n",
    "We need to follow the same process for generating the needs_match sheet as we did for geo preferences- \n",
    "\n",
    "1) Read in the sovler pivot table <br>\n",
    "2) Melt it and get a list form  <br>\n",
    "3) Read in the partner pivot table <br>\n",
    "4) Merge both tables into another pivot table <br>\n",
    "\n",
    "\n",
    "Its exactly the same game we played above hence we can concisely write it down.\n"
   ]
  },
  {
   "cell_type": "code",
   "execution_count": 8,
   "metadata": {
    "ExecuteTime": {
     "end_time": "2020-06-25T17:09:11.495122Z",
     "start_time": "2020-06-25T17:09:11.485343Z"
    }
   },
   "outputs": [
    {
     "output_type": "execute_result",
     "data": {
      "text/plain": "                             Org                        Needs\n0             Aditya Birla Group               Business model\n1             Aditya Birla Group                 Distribution\n2             Aditya Birla Group                    Financial\n3             Aditya Birla Group  Legal or Regulatory Matters\n4  BMW Foundation Herbert Quandt                        Other",
      "text/html": "<div>\n<style scoped>\n    .dataframe tbody tr th:only-of-type {\n        vertical-align: middle;\n    }\n\n    .dataframe tbody tr th {\n        vertical-align: top;\n    }\n\n    .dataframe thead th {\n        text-align: right;\n    }\n</style>\n<table border=\"1\" class=\"dataframe\">\n  <thead>\n    <tr style=\"text-align: right;\">\n      <th></th>\n      <th>Org</th>\n      <th>Needs</th>\n    </tr>\n  </thead>\n  <tbody>\n    <tr>\n      <th>0</th>\n      <td>Aditya Birla Group</td>\n      <td>Business model</td>\n    </tr>\n    <tr>\n      <th>1</th>\n      <td>Aditya Birla Group</td>\n      <td>Distribution</td>\n    </tr>\n    <tr>\n      <th>2</th>\n      <td>Aditya Birla Group</td>\n      <td>Financial</td>\n    </tr>\n    <tr>\n      <th>3</th>\n      <td>Aditya Birla Group</td>\n      <td>Legal or Regulatory Matters</td>\n    </tr>\n    <tr>\n      <th>4</th>\n      <td>BMW Foundation Herbert Quandt</td>\n      <td>Other</td>\n    </tr>\n  </tbody>\n</table>\n</div>"
     },
     "metadata": {},
     "execution_count": 8
    }
   ],
   "source": [
    "partners_needs = zebra.get_partners_needs(partners_df)\n",
    "partners_needs.head()"
   ]
  },
  {
   "cell_type": "code",
   "execution_count": 9,
   "metadata": {
    "ExecuteTime": {
     "end_time": "2020-06-25T17:09:11.516159Z",
     "start_time": "2020-06-25T17:09:11.496281Z"
    }
   },
   "outputs": [
    {
     "output_type": "execute_result",
     "data": {
      "text/plain": "  key_needs                            Org       match   needs_match\n0         1  AIR-INK: Air-Pollution to ink  Technology  1,Technology\n1         2  AIR-INK: Air-Pollution to ink         nan           2,0\n2         3  AIR-INK: Air-Pollution to ink         nan           3,0\n3         4  AIR-INK: Air-Pollution to ink         nan           4,0\n4         5  AIR-INK: Air-Pollution to ink         nan           5,0",
      "text/html": "<div>\n<style scoped>\n    .dataframe tbody tr th:only-of-type {\n        vertical-align: middle;\n    }\n\n    .dataframe tbody tr th {\n        vertical-align: top;\n    }\n\n    .dataframe thead th {\n        text-align: right;\n    }\n</style>\n<table border=\"1\" class=\"dataframe\">\n  <thead>\n    <tr style=\"text-align: right;\">\n      <th></th>\n      <th>key_needs</th>\n      <th>Org</th>\n      <th>match</th>\n      <th>needs_match</th>\n    </tr>\n  </thead>\n  <tbody>\n    <tr>\n      <th>0</th>\n      <td>1</td>\n      <td>AIR-INK: Air-Pollution to ink</td>\n      <td>Technology</td>\n      <td>1,Technology</td>\n    </tr>\n    <tr>\n      <th>1</th>\n      <td>2</td>\n      <td>AIR-INK: Air-Pollution to ink</td>\n      <td>nan</td>\n      <td>2,0</td>\n    </tr>\n    <tr>\n      <th>2</th>\n      <td>3</td>\n      <td>AIR-INK: Air-Pollution to ink</td>\n      <td>nan</td>\n      <td>3,0</td>\n    </tr>\n    <tr>\n      <th>3</th>\n      <td>4</td>\n      <td>AIR-INK: Air-Pollution to ink</td>\n      <td>nan</td>\n      <td>4,0</td>\n    </tr>\n    <tr>\n      <th>4</th>\n      <td>5</td>\n      <td>AIR-INK: Air-Pollution to ink</td>\n      <td>nan</td>\n      <td>5,0</td>\n    </tr>\n  </tbody>\n</table>\n</div>"
     },
     "metadata": {},
     "execution_count": 9
    }
   ],
   "source": [
    "unpivoted_solver_needs= zebra.get_solver_needs(solver_df)\n",
    "unpivoted_solver_needs.head()"
   ]
  },
  {
   "cell_type": "code",
   "execution_count": 18,
   "metadata": {
    "ExecuteTime": {
     "end_time": "2020-06-25T17:09:11.714669Z",
     "start_time": "2020-06-25T17:09:11.517361Z"
    },
    "scrolled": false
   },
   "outputs": [
    {
     "output_type": "execute_result",
     "data": {
      "text/plain": "Org_x                                               AIR-INK: Air-Pollution to ink  \\\nOrg_y                                                                               \nAditya Birla Group                                                              0   \nBMW Foundation Herbert Quandt                                                   0   \nBuenos Aires Innovation Park (City of Buenos Ai...                              0   \nC L Sandberg & Associates                                                       1   \nCapital One                                                                     1   \n\nOrg_x                                               Aira  \\\nOrg_y                                                      \nAditya Birla Group                                     1   \nBMW Foundation Herbert Quandt                          0   \nBuenos Aires Innovation Park (City of Buenos Ai...     0   \nC L Sandberg & Associates                              0   \nCapital One                                            0   \n\nOrg_x                                               Algramo-Catalyzing Reusable Packaging  \\\nOrg_y                                                                                       \nAditya Birla Group                                                                      1   \nBMW Foundation Herbert Quandt                                                           1   \nBuenos Aires Innovation Park (City of Buenos Ai...                                      0   \nC L Sandberg & Associates                                                               1   \nCapital One                                                                             1   \n\nOrg_x                                               BioCellection  \\\nOrg_y                                                               \nAditya Birla Group                                              1   \nBMW Foundation Herbert Quandt                                   0   \nBuenos Aires Innovation Park (City of Buenos Ai...              1   \nC L Sandberg & Associates                                       2   \nCapital One                                                     3   \n\nOrg_x                                               Blue Sky Analytics  \\\nOrg_y                                                                    \nAditya Birla Group                                                   1   \nBMW Foundation Herbert Quandt                                        0   \nBuenos Aires Innovation Park (City of Buenos Ai...                   1   \nC L Sandberg & Associates                                            2   \nCapital One                                                          3   \n\nOrg_x                                               CareMother  \\\nOrg_y                                                            \nAditya Birla Group                                           2   \nBMW Foundation Herbert Quandt                                1   \nBuenos Aires Innovation Park (City of Buenos Ai...           1   \nC L Sandberg & Associates                                    2   \nCapital One                                                  3   \n\nOrg_x                                               Dost Education  EarlyBird  \\\nOrg_y                                                                           \nAditya Birla Group                                               1          0   \nBMW Foundation Herbert Quandt                                    0          0   \nBuenos Aires Innovation Park (City of Buenos Ai...               0          1   \nC L Sandberg & Associates                                        2          0   \nCapital One                                                      4          2   \n\nOrg_x                                               Elpis Solar  \\\nOrg_y                                                             \nAditya Birla Group                                            2   \nBMW Foundation Herbert Quandt                                 1   \nBuenos Aires Innovation Park (City of Buenos Ai...            0   \nC L Sandberg & Associates                                     2   \nCapital One                                                   2   \n\nOrg_x                                               Faircap Clean Water  ...  \\\nOrg_y                                                                    ...   \nAditya Birla Group                                                    2  ...   \nBMW Foundation Herbert Quandt                                         0  ...   \nBuenos Aires Innovation Park (City of Buenos Ai...                    0  ...   \nC L Sandberg & Associates                                             3  ...   \nCapital One                                                           3  ...   \n\nOrg_x                                               RevelaGov  Rheaply  \\\nOrg_y                                                                    \nAditya Birla Group                                          2        1   \nBMW Foundation Herbert Quandt                               0        1   \nBuenos Aires Innovation Park (City of Buenos Ai...          1        0   \nC L Sandberg & Associates                                   3        1   \nCapital One                                                 4        1   \n\nOrg_x                                               Salauno: Eye care for all  \\\nOrg_y                                                                           \nAditya Birla Group                                                          2   \nBMW Foundation Herbert Quandt                                               0   \nBuenos Aires Innovation Park (City of Buenos Ai...                          1   \nC L Sandberg & Associates                                                   2   \nCapital One                                                                 4   \n\nOrg_x                                               Shape-Up  \\\nOrg_y                                                          \nAditya Birla Group                                         1   \nBMW Foundation Herbert Quandt                              0   \nBuenos Aires Innovation Park (City of Buenos Ai...         0   \nC L Sandberg & Associates                                  1   \nCapital One                                                1   \n\nOrg_x                                               Supercivicos app  \\\nOrg_y                                                                  \nAditya Birla Group                                                 2   \nBMW Foundation Herbert Quandt                                      0   \nBuenos Aires Innovation Park (City of Buenos Ai...                 0   \nC L Sandberg & Associates                                          3   \nCapital One                                                        3   \n\nOrg_x                                               Tabshoura Tiny Thinkers  \\\nOrg_y                                                                         \nAditya Birla Group                                                        1   \nBMW Foundation Herbert Quandt                                             0   \nBuenos Aires Innovation Park (City of Buenos Ai...                        0   \nC L Sandberg & Associates                                                 1   \nCapital One                                                               1   \n\nOrg_x                                               The Future is Offline  \\\nOrg_y                                                                       \nAditya Birla Group                                                      2   \nBMW Foundation Herbert Quandt                                           0   \nBuenos Aires Innovation Park (City of Buenos Ai...                      0   \nC L Sandberg & Associates                                               2   \nCapital One                                                             3   \n\nOrg_x                                               WheeLog!  Xilinat  \\\nOrg_y                                                                   \nAditya Birla Group                                         3        2   \nBMW Foundation Herbert Quandt                              0        1   \nBuenos Aires Innovation Park (City of Buenos Ai...         0        0   \nC L Sandberg & Associates                                  3        2   \nCapital One                                                3        3   \n\nOrg_x                                               change:WATER Labs' iThrone: a waste-shrinking toilet  \nOrg_y                                                                                                     \nAditya Birla Group                                                                                  2     \nBMW Foundation Herbert Quandt                                                                       0     \nBuenos Aires Innovation Park (City of Buenos Ai...                                                  0     \nC L Sandberg & Associates                                                                           2     \nCapital One                                                                                         2     \n\n[5 rows x 32 columns]",
      "text/html": "<div>\n<style scoped>\n    .dataframe tbody tr th:only-of-type {\n        vertical-align: middle;\n    }\n\n    .dataframe tbody tr th {\n        vertical-align: top;\n    }\n\n    .dataframe thead th {\n        text-align: right;\n    }\n</style>\n<table border=\"1\" class=\"dataframe\">\n  <thead>\n    <tr style=\"text-align: right;\">\n      <th>Org_x</th>\n      <th>AIR-INK: Air-Pollution to ink</th>\n      <th>Aira</th>\n      <th>Algramo-Catalyzing Reusable Packaging</th>\n      <th>BioCellection</th>\n      <th>Blue Sky Analytics</th>\n      <th>CareMother</th>\n      <th>Dost Education</th>\n      <th>EarlyBird</th>\n      <th>Elpis Solar</th>\n      <th>Faircap Clean Water</th>\n      <th>...</th>\n      <th>RevelaGov</th>\n      <th>Rheaply</th>\n      <th>Salauno: Eye care for all</th>\n      <th>Shape-Up</th>\n      <th>Supercivicos app</th>\n      <th>Tabshoura Tiny Thinkers</th>\n      <th>The Future is Offline</th>\n      <th>WheeLog!</th>\n      <th>Xilinat</th>\n      <th>change:WATER Labs' iThrone: a waste-shrinking toilet</th>\n    </tr>\n    <tr>\n      <th>Org_y</th>\n      <th></th>\n      <th></th>\n      <th></th>\n      <th></th>\n      <th></th>\n      <th></th>\n      <th></th>\n      <th></th>\n      <th></th>\n      <th></th>\n      <th></th>\n      <th></th>\n      <th></th>\n      <th></th>\n      <th></th>\n      <th></th>\n      <th></th>\n      <th></th>\n      <th></th>\n      <th></th>\n      <th></th>\n    </tr>\n  </thead>\n  <tbody>\n    <tr>\n      <th>Aditya Birla Group</th>\n      <td>0</td>\n      <td>1</td>\n      <td>1</td>\n      <td>1</td>\n      <td>1</td>\n      <td>2</td>\n      <td>1</td>\n      <td>0</td>\n      <td>2</td>\n      <td>2</td>\n      <td>...</td>\n      <td>2</td>\n      <td>1</td>\n      <td>2</td>\n      <td>1</td>\n      <td>2</td>\n      <td>1</td>\n      <td>2</td>\n      <td>3</td>\n      <td>2</td>\n      <td>2</td>\n    </tr>\n    <tr>\n      <th>BMW Foundation Herbert Quandt</th>\n      <td>0</td>\n      <td>0</td>\n      <td>1</td>\n      <td>0</td>\n      <td>0</td>\n      <td>1</td>\n      <td>0</td>\n      <td>0</td>\n      <td>1</td>\n      <td>0</td>\n      <td>...</td>\n      <td>0</td>\n      <td>1</td>\n      <td>0</td>\n      <td>0</td>\n      <td>0</td>\n      <td>0</td>\n      <td>0</td>\n      <td>0</td>\n      <td>1</td>\n      <td>0</td>\n    </tr>\n    <tr>\n      <th>Buenos Aires Innovation Park (City of Buenos Aires Government)</th>\n      <td>0</td>\n      <td>0</td>\n      <td>0</td>\n      <td>1</td>\n      <td>1</td>\n      <td>1</td>\n      <td>0</td>\n      <td>1</td>\n      <td>0</td>\n      <td>0</td>\n      <td>...</td>\n      <td>1</td>\n      <td>0</td>\n      <td>1</td>\n      <td>0</td>\n      <td>0</td>\n      <td>0</td>\n      <td>0</td>\n      <td>0</td>\n      <td>0</td>\n      <td>0</td>\n    </tr>\n    <tr>\n      <th>C L Sandberg &amp; Associates</th>\n      <td>1</td>\n      <td>0</td>\n      <td>1</td>\n      <td>2</td>\n      <td>2</td>\n      <td>2</td>\n      <td>2</td>\n      <td>0</td>\n      <td>2</td>\n      <td>3</td>\n      <td>...</td>\n      <td>3</td>\n      <td>1</td>\n      <td>2</td>\n      <td>1</td>\n      <td>3</td>\n      <td>1</td>\n      <td>2</td>\n      <td>3</td>\n      <td>2</td>\n      <td>2</td>\n    </tr>\n    <tr>\n      <th>Capital One</th>\n      <td>1</td>\n      <td>0</td>\n      <td>1</td>\n      <td>3</td>\n      <td>3</td>\n      <td>3</td>\n      <td>4</td>\n      <td>2</td>\n      <td>2</td>\n      <td>3</td>\n      <td>...</td>\n      <td>4</td>\n      <td>1</td>\n      <td>4</td>\n      <td>1</td>\n      <td>3</td>\n      <td>1</td>\n      <td>3</td>\n      <td>3</td>\n      <td>3</td>\n      <td>2</td>\n    </tr>\n  </tbody>\n</table>\n<p>5 rows × 32 columns</p>\n</div>"
     },
     "metadata": {},
     "execution_count": 18
    }
   ],
   "source": [
    "needs_values, needs_pivot_copy = zebra.pivot_table_needs(unpivoted_solver_needs,\n",
    "                  partners_needs,\n",
    "                  export=False)\n",
    "needs_pivot_copy.head()"
   ]
  },
  {
   "cell_type": "markdown",
   "metadata": {
    "ExecuteTime": {
     "end_time": "2020-04-21T01:05:04.204114Z",
     "start_time": "2020-04-21T01:05:04.159996Z"
    }
   },
   "source": [
    "# Generate challanges match sheet data\n",
    "\n",
    "Matching challenges column is a bit easier since all solvers come through a single challenge even if partners are willing to judge/help solvers from multiple challenges. Here too we follow the same process- \n",
    "\n",
    "1) Get partner challenges data <br>\n",
    "2) Get solvers challenges data <br>\n",
    "3) Generate a pivot table combining the partner and solvers data <br>\n"
   ]
  },
  {
   "cell_type": "code",
   "execution_count": 10,
   "metadata": {
    "ExecuteTime": {
     "end_time": "2020-06-25T17:09:11.727793Z",
     "start_time": "2020-06-25T17:09:11.717153Z"
    }
   },
   "outputs": [
    {
     "output_type": "execute_result",
     "data": {
      "text/plain": "                             Org                    Challenge\n0             Aditya Birla Group  Community-Driven Innovation\n1             Aditya Birla Group             Circular Economy\n2  BMW Foundation Herbert Quandt  Community-Driven Innovation\n3  BMW Foundation Herbert Quandt               Healthy Cities\n4  BMW Foundation Herbert Quandt             Circular Economy",
      "text/html": "<div>\n<style scoped>\n    .dataframe tbody tr th:only-of-type {\n        vertical-align: middle;\n    }\n\n    .dataframe tbody tr th {\n        vertical-align: top;\n    }\n\n    .dataframe thead th {\n        text-align: right;\n    }\n</style>\n<table border=\"1\" class=\"dataframe\">\n  <thead>\n    <tr style=\"text-align: right;\">\n      <th></th>\n      <th>Org</th>\n      <th>Challenge</th>\n    </tr>\n  </thead>\n  <tbody>\n    <tr>\n      <th>0</th>\n      <td>Aditya Birla Group</td>\n      <td>Community-Driven Innovation</td>\n    </tr>\n    <tr>\n      <th>1</th>\n      <td>Aditya Birla Group</td>\n      <td>Circular Economy</td>\n    </tr>\n    <tr>\n      <th>2</th>\n      <td>BMW Foundation Herbert Quandt</td>\n      <td>Community-Driven Innovation</td>\n    </tr>\n    <tr>\n      <th>3</th>\n      <td>BMW Foundation Herbert Quandt</td>\n      <td>Healthy Cities</td>\n    </tr>\n    <tr>\n      <th>4</th>\n      <td>BMW Foundation Herbert Quandt</td>\n      <td>Circular Economy</td>\n    </tr>\n  </tbody>\n</table>\n</div>"
     },
     "metadata": {},
     "execution_count": 10
    }
   ],
   "source": [
    "ch_partners_challenges = zebra.get_ch_partners(partners_df)\n",
    "ch_partners_challenges.head()"
   ]
  },
  {
   "cell_type": "code",
   "execution_count": 11,
   "metadata": {
    "ExecuteTime": {
     "end_time": "2020-06-25T17:09:11.742309Z",
     "start_time": "2020-06-25T17:09:11.731580Z"
    }
   },
   "outputs": [
    {
     "output_type": "execute_result",
     "data": {
      "text/plain": "                                     Org         Challenge\n0          AIR-INK: Air-Pollution to ink  Circular Economy\n1  Algramo-Catalyzing Reusable Packaging  Circular Economy\n2                          BioCellection  Circular Economy\n3                               Mycotech  Circular Economy\n4                           Queen of Raw  Circular Economy",
      "text/html": "<div>\n<style scoped>\n    .dataframe tbody tr th:only-of-type {\n        vertical-align: middle;\n    }\n\n    .dataframe tbody tr th {\n        vertical-align: top;\n    }\n\n    .dataframe thead th {\n        text-align: right;\n    }\n</style>\n<table border=\"1\" class=\"dataframe\">\n  <thead>\n    <tr style=\"text-align: right;\">\n      <th></th>\n      <th>Org</th>\n      <th>Challenge</th>\n    </tr>\n  </thead>\n  <tbody>\n    <tr>\n      <th>0</th>\n      <td>AIR-INK: Air-Pollution to ink</td>\n      <td>Circular Economy</td>\n    </tr>\n    <tr>\n      <th>1</th>\n      <td>Algramo-Catalyzing Reusable Packaging</td>\n      <td>Circular Economy</td>\n    </tr>\n    <tr>\n      <th>2</th>\n      <td>BioCellection</td>\n      <td>Circular Economy</td>\n    </tr>\n    <tr>\n      <th>3</th>\n      <td>Mycotech</td>\n      <td>Circular Economy</td>\n    </tr>\n    <tr>\n      <th>4</th>\n      <td>Queen of Raw</td>\n      <td>Circular Economy</td>\n    </tr>\n  </tbody>\n</table>\n</div>"
     },
     "metadata": {},
     "execution_count": 11
    }
   ],
   "source": [
    "ch_solver = zebra.get_ch_solvers(solver_df)\n",
    "ch_solver.head()"
   ]
  },
  {
   "cell_type": "code",
   "execution_count": 12,
   "metadata": {
    "ExecuteTime": {
     "end_time": "2020-06-25T17:09:11.828572Z",
     "start_time": "2020-06-25T17:09:11.743217Z"
    },
    "scrolled": false
   },
   "outputs": [
    {
     "output_type": "execute_result",
     "data": {
      "text/plain": "Org_x                                               AIR-INK: Air-Pollution to ink  \\\nOrg_y                                                                               \nAditya Birla Group                                                              1   \nBMW Foundation Herbert Quandt                                                   1   \nBuenos Aires Innovation Park (City of Buenos Ai...                              1   \nC L Sandberg & Associates                                                       1   \nCapital One                                                                     1   \n\nOrg_x                                               Aira  \\\nOrg_y                                                      \nAditya Birla Group                                     1   \nBMW Foundation Herbert Quandt                          1   \nBuenos Aires Innovation Park (City of Buenos Ai...     1   \nC L Sandberg & Associates                              1   \nCapital One                                            1   \n\nOrg_x                                               Algramo-Catalyzing Reusable Packaging  \\\nOrg_y                                                                                       \nAditya Birla Group                                                                      1   \nBMW Foundation Herbert Quandt                                                           1   \nBuenos Aires Innovation Park (City of Buenos Ai...                                      1   \nC L Sandberg & Associates                                                               1   \nCapital One                                                                             1   \n\nOrg_x                                               BioCellection  \\\nOrg_y                                                               \nAditya Birla Group                                              1   \nBMW Foundation Herbert Quandt                                   1   \nBuenos Aires Innovation Park (City of Buenos Ai...              1   \nC L Sandberg & Associates                                       1   \nCapital One                                                     1   \n\nOrg_x                                               Blue Sky Analytics  \\\nOrg_y                                                                    \nAditya Birla Group                                                   1   \nBMW Foundation Herbert Quandt                                        1   \nBuenos Aires Innovation Park (City of Buenos Ai...                   1   \nC L Sandberg & Associates                                            1   \nCapital One                                                          1   \n\nOrg_x                                               CareMother  \\\nOrg_y                                                            \nAditya Birla Group                                           1   \nBMW Foundation Herbert Quandt                                1   \nBuenos Aires Innovation Park (City of Buenos Ai...           1   \nC L Sandberg & Associates                                    1   \nCapital One                                                  1   \n\nOrg_x                                               Dost Education  EarlyBird  \\\nOrg_y                                                                           \nAditya Birla Group                                               1          1   \nBMW Foundation Herbert Quandt                                    1          1   \nBuenos Aires Innovation Park (City of Buenos Ai...               1          1   \nC L Sandberg & Associates                                        1          1   \nCapital One                                                      1          1   \n\nOrg_x                                               Elpis Solar  \\\nOrg_y                                                             \nAditya Birla Group                                            1   \nBMW Foundation Herbert Quandt                                 1   \nBuenos Aires Innovation Park (City of Buenos Ai...            1   \nC L Sandberg & Associates                                     1   \nCapital One                                                   1   \n\nOrg_x                                               Faircap Clean Water  ...  \\\nOrg_y                                                                    ...   \nAditya Birla Group                                                    1  ...   \nBMW Foundation Herbert Quandt                                         1  ...   \nBuenos Aires Innovation Park (City of Buenos Ai...                    1  ...   \nC L Sandberg & Associates                                             1  ...   \nCapital One                                                           1  ...   \n\nOrg_x                                               RevelaGov  Rheaply  \\\nOrg_y                                                                    \nAditya Birla Group                                          1        1   \nBMW Foundation Herbert Quandt                               1        1   \nBuenos Aires Innovation Park (City of Buenos Ai...          1        1   \nC L Sandberg & Associates                                   1        1   \nCapital One                                                 1        1   \n\nOrg_x                                               Salauno: Eye care for all  \\\nOrg_y                                                                           \nAditya Birla Group                                                          1   \nBMW Foundation Herbert Quandt                                               1   \nBuenos Aires Innovation Park (City of Buenos Ai...                          1   \nC L Sandberg & Associates                                                   1   \nCapital One                                                                 1   \n\nOrg_x                                               Shape-Up  \\\nOrg_y                                                          \nAditya Birla Group                                         1   \nBMW Foundation Herbert Quandt                              1   \nBuenos Aires Innovation Park (City of Buenos Ai...         1   \nC L Sandberg & Associates                                  1   \nCapital One                                                1   \n\nOrg_x                                               Supercivicos app  \\\nOrg_y                                                                  \nAditya Birla Group                                                 1   \nBMW Foundation Herbert Quandt                                      1   \nBuenos Aires Innovation Park (City of Buenos Ai...                 1   \nC L Sandberg & Associates                                          1   \nCapital One                                                        1   \n\nOrg_x                                               Tabshoura Tiny Thinkers  \\\nOrg_y                                                                         \nAditya Birla Group                                                        1   \nBMW Foundation Herbert Quandt                                             1   \nBuenos Aires Innovation Park (City of Buenos Ai...                        1   \nC L Sandberg & Associates                                                 1   \nCapital One                                                               1   \n\nOrg_x                                               The Future is Offline  \\\nOrg_y                                                                       \nAditya Birla Group                                                      1   \nBMW Foundation Herbert Quandt                                           1   \nBuenos Aires Innovation Park (City of Buenos Ai...                      1   \nC L Sandberg & Associates                                               1   \nCapital One                                                             1   \n\nOrg_x                                               WheeLog!  Xilinat  \\\nOrg_y                                                                   \nAditya Birla Group                                         1        1   \nBMW Foundation Herbert Quandt                              1        1   \nBuenos Aires Innovation Park (City of Buenos Ai...         1        1   \nC L Sandberg & Associates                                  1        1   \nCapital One                                                1        1   \n\nOrg_x                                               change:WATER Labs' iThrone: a waste-shrinking toilet  \nOrg_y                                                                                                     \nAditya Birla Group                                                                                  1     \nBMW Foundation Herbert Quandt                                                                       1     \nBuenos Aires Innovation Park (City of Buenos Ai...                                                  1     \nC L Sandberg & Associates                                                                           1     \nCapital One                                                                                         1     \n\n[5 rows x 32 columns]",
      "text/html": "<div>\n<style scoped>\n    .dataframe tbody tr th:only-of-type {\n        vertical-align: middle;\n    }\n\n    .dataframe tbody tr th {\n        vertical-align: top;\n    }\n\n    .dataframe thead th {\n        text-align: right;\n    }\n</style>\n<table border=\"1\" class=\"dataframe\">\n  <thead>\n    <tr style=\"text-align: right;\">\n      <th>Org_x</th>\n      <th>AIR-INK: Air-Pollution to ink</th>\n      <th>Aira</th>\n      <th>Algramo-Catalyzing Reusable Packaging</th>\n      <th>BioCellection</th>\n      <th>Blue Sky Analytics</th>\n      <th>CareMother</th>\n      <th>Dost Education</th>\n      <th>EarlyBird</th>\n      <th>Elpis Solar</th>\n      <th>Faircap Clean Water</th>\n      <th>...</th>\n      <th>RevelaGov</th>\n      <th>Rheaply</th>\n      <th>Salauno: Eye care for all</th>\n      <th>Shape-Up</th>\n      <th>Supercivicos app</th>\n      <th>Tabshoura Tiny Thinkers</th>\n      <th>The Future is Offline</th>\n      <th>WheeLog!</th>\n      <th>Xilinat</th>\n      <th>change:WATER Labs' iThrone: a waste-shrinking toilet</th>\n    </tr>\n    <tr>\n      <th>Org_y</th>\n      <th></th>\n      <th></th>\n      <th></th>\n      <th></th>\n      <th></th>\n      <th></th>\n      <th></th>\n      <th></th>\n      <th></th>\n      <th></th>\n      <th></th>\n      <th></th>\n      <th></th>\n      <th></th>\n      <th></th>\n      <th></th>\n      <th></th>\n      <th></th>\n      <th></th>\n      <th></th>\n      <th></th>\n    </tr>\n  </thead>\n  <tbody>\n    <tr>\n      <th>Aditya Birla Group</th>\n      <td>1</td>\n      <td>1</td>\n      <td>1</td>\n      <td>1</td>\n      <td>1</td>\n      <td>1</td>\n      <td>1</td>\n      <td>1</td>\n      <td>1</td>\n      <td>1</td>\n      <td>...</td>\n      <td>1</td>\n      <td>1</td>\n      <td>1</td>\n      <td>1</td>\n      <td>1</td>\n      <td>1</td>\n      <td>1</td>\n      <td>1</td>\n      <td>1</td>\n      <td>1</td>\n    </tr>\n    <tr>\n      <th>BMW Foundation Herbert Quandt</th>\n      <td>1</td>\n      <td>1</td>\n      <td>1</td>\n      <td>1</td>\n      <td>1</td>\n      <td>1</td>\n      <td>1</td>\n      <td>1</td>\n      <td>1</td>\n      <td>1</td>\n      <td>...</td>\n      <td>1</td>\n      <td>1</td>\n      <td>1</td>\n      <td>1</td>\n      <td>1</td>\n      <td>1</td>\n      <td>1</td>\n      <td>1</td>\n      <td>1</td>\n      <td>1</td>\n    </tr>\n    <tr>\n      <th>Buenos Aires Innovation Park (City of Buenos Aires Government)</th>\n      <td>1</td>\n      <td>1</td>\n      <td>1</td>\n      <td>1</td>\n      <td>1</td>\n      <td>1</td>\n      <td>1</td>\n      <td>1</td>\n      <td>1</td>\n      <td>1</td>\n      <td>...</td>\n      <td>1</td>\n      <td>1</td>\n      <td>1</td>\n      <td>1</td>\n      <td>1</td>\n      <td>1</td>\n      <td>1</td>\n      <td>1</td>\n      <td>1</td>\n      <td>1</td>\n    </tr>\n    <tr>\n      <th>C L Sandberg &amp; Associates</th>\n      <td>1</td>\n      <td>1</td>\n      <td>1</td>\n      <td>1</td>\n      <td>1</td>\n      <td>1</td>\n      <td>1</td>\n      <td>1</td>\n      <td>1</td>\n      <td>1</td>\n      <td>...</td>\n      <td>1</td>\n      <td>1</td>\n      <td>1</td>\n      <td>1</td>\n      <td>1</td>\n      <td>1</td>\n      <td>1</td>\n      <td>1</td>\n      <td>1</td>\n      <td>1</td>\n    </tr>\n    <tr>\n      <th>Capital One</th>\n      <td>1</td>\n      <td>1</td>\n      <td>1</td>\n      <td>1</td>\n      <td>1</td>\n      <td>1</td>\n      <td>1</td>\n      <td>1</td>\n      <td>1</td>\n      <td>1</td>\n      <td>...</td>\n      <td>1</td>\n      <td>1</td>\n      <td>1</td>\n      <td>1</td>\n      <td>1</td>\n      <td>1</td>\n      <td>1</td>\n      <td>1</td>\n      <td>1</td>\n      <td>1</td>\n    </tr>\n  </tbody>\n</table>\n<p>5 rows × 32 columns</p>\n</div>"
     },
     "metadata": {},
     "execution_count": 12
    }
   ],
   "source": [
    "challenges_pivot, challenges_pivot_copy = zebra.pivot_table_challenges(ch_solver, ch_partners_challenges)\n",
    "challenges_pivot_copy.head()"
   ]
  },
  {
   "cell_type": "markdown",
   "metadata": {},
   "source": [
    "# Generate stage match sheet \n",
    "\n",
    "Same game as the challenges sheet data. Again the solvers have only one option for stage- \n",
    "\n",
    "1) Get partner stage data <br>\n",
    "2) Get solvers stage data <br>\n",
    "3) Generate a pivot table combining the partner and solvers data <br>"
   ]
  },
  {
   "cell_type": "code",
   "execution_count": 13,
   "metadata": {
    "ExecuteTime": {
     "end_time": "2020-06-25T17:09:11.838857Z",
     "start_time": "2020-06-25T17:09:11.829699Z"
    }
   },
   "outputs": [
    {
     "output_type": "execute_result",
     "data": {
      "text/plain": "                                                 Org      Stage\n0                                 Aditya Birla Group     Growth\n1                                 Aditya Birla Group      Scale\n2                      BMW Foundation Herbert Quandt      Scale\n3  Buenos Aires Innovation Park (City of Buenos A...  Prototype\n4                          C L Sandberg & Associates  Prototype",
      "text/html": "<div>\n<style scoped>\n    .dataframe tbody tr th:only-of-type {\n        vertical-align: middle;\n    }\n\n    .dataframe tbody tr th {\n        vertical-align: top;\n    }\n\n    .dataframe thead th {\n        text-align: right;\n    }\n</style>\n<table border=\"1\" class=\"dataframe\">\n  <thead>\n    <tr style=\"text-align: right;\">\n      <th></th>\n      <th>Org</th>\n      <th>Stage</th>\n    </tr>\n  </thead>\n  <tbody>\n    <tr>\n      <th>0</th>\n      <td>Aditya Birla Group</td>\n      <td>Growth</td>\n    </tr>\n    <tr>\n      <th>1</th>\n      <td>Aditya Birla Group</td>\n      <td>Scale</td>\n    </tr>\n    <tr>\n      <th>2</th>\n      <td>BMW Foundation Herbert Quandt</td>\n      <td>Scale</td>\n    </tr>\n    <tr>\n      <th>3</th>\n      <td>Buenos Aires Innovation Park (City of Buenos A...</td>\n      <td>Prototype</td>\n    </tr>\n    <tr>\n      <th>4</th>\n      <td>C L Sandberg &amp; Associates</td>\n      <td>Prototype</td>\n    </tr>\n  </tbody>\n</table>\n</div>"
     },
     "metadata": {},
     "execution_count": 13
    }
   ],
   "source": [
    "st_partners = zebra.get_st_partners(partners_df)\n",
    "st_partners.head()"
   ]
  },
  {
   "cell_type": "code",
   "execution_count": 14,
   "metadata": {
    "ExecuteTime": {
     "end_time": "2020-06-25T17:09:11.850092Z",
     "start_time": "2020-06-25T17:09:11.839922Z"
    }
   },
   "outputs": [
    {
     "output_type": "execute_result",
     "data": {
      "text/plain": "                                     Org   Stage\n0          AIR-INK: Air-Pollution to ink  Growth\n1  Algramo-Catalyzing Reusable Packaging  Growth\n2                          BioCellection   Pilot\n3                               Mycotech   Pilot\n4                           Queen of Raw   Pilot",
      "text/html": "<div>\n<style scoped>\n    .dataframe tbody tr th:only-of-type {\n        vertical-align: middle;\n    }\n\n    .dataframe tbody tr th {\n        vertical-align: top;\n    }\n\n    .dataframe thead th {\n        text-align: right;\n    }\n</style>\n<table border=\"1\" class=\"dataframe\">\n  <thead>\n    <tr style=\"text-align: right;\">\n      <th></th>\n      <th>Org</th>\n      <th>Stage</th>\n    </tr>\n  </thead>\n  <tbody>\n    <tr>\n      <th>0</th>\n      <td>AIR-INK: Air-Pollution to ink</td>\n      <td>Growth</td>\n    </tr>\n    <tr>\n      <th>1</th>\n      <td>Algramo-Catalyzing Reusable Packaging</td>\n      <td>Growth</td>\n    </tr>\n    <tr>\n      <th>2</th>\n      <td>BioCellection</td>\n      <td>Pilot</td>\n    </tr>\n    <tr>\n      <th>3</th>\n      <td>Mycotech</td>\n      <td>Pilot</td>\n    </tr>\n    <tr>\n      <th>4</th>\n      <td>Queen of Raw</td>\n      <td>Pilot</td>\n    </tr>\n  </tbody>\n</table>\n</div>"
     },
     "metadata": {},
     "execution_count": 14
    }
   ],
   "source": [
    "st_solver = zebra.get_st_solver(solver_df)\n",
    "st_solver.head()"
   ]
  },
  {
   "cell_type": "code",
   "execution_count": 15,
   "metadata": {
    "ExecuteTime": {
     "end_time": "2020-06-25T17:09:11.992678Z",
     "start_time": "2020-06-25T17:09:11.851106Z"
    }
   },
   "outputs": [
    {
     "output_type": "execute_result",
     "data": {
      "text/plain": "Org_x                                               AIR-INK: Air-Pollution to ink  \\\nOrg_y                                                                               \nAditya Birla Group                                                              1   \nBMW Foundation Herbert Quandt                                                   0   \nBuenos Aires Innovation Park (City of Buenos Ai...                              0   \nC L Sandberg & Associates                                                       0   \nCapital One                                                                     1   \n\nOrg_x                                               Aira  \\\nOrg_y                                                      \nAditya Birla Group                                     1   \nBMW Foundation Herbert Quandt                          1   \nBuenos Aires Innovation Park (City of Buenos Ai...     0   \nC L Sandberg & Associates                              0   \nCapital One                                            1   \n\nOrg_x                                               Algramo-Catalyzing Reusable Packaging  \\\nOrg_y                                                                                       \nAditya Birla Group                                                                      1   \nBMW Foundation Herbert Quandt                                                           0   \nBuenos Aires Innovation Park (City of Buenos Ai...                                      0   \nC L Sandberg & Associates                                                               0   \nCapital One                                                                             1   \n\nOrg_x                                               BioCellection  \\\nOrg_y                                                               \nAditya Birla Group                                              0   \nBMW Foundation Herbert Quandt                                   0   \nBuenos Aires Innovation Park (City of Buenos Ai...              0   \nC L Sandberg & Associates                                       0   \nCapital One                                                     1   \n\nOrg_x                                               Blue Sky Analytics  \\\nOrg_y                                                                    \nAditya Birla Group                                                   0   \nBMW Foundation Herbert Quandt                                        0   \nBuenos Aires Innovation Park (City of Buenos Ai...                   0   \nC L Sandberg & Associates                                            0   \nCapital One                                                          1   \n\nOrg_x                                               CareMother  \\\nOrg_y                                                            \nAditya Birla Group                                           1   \nBMW Foundation Herbert Quandt                                0   \nBuenos Aires Innovation Park (City of Buenos Ai...           0   \nC L Sandberg & Associates                                    0   \nCapital One                                                  1   \n\nOrg_x                                               Dost Education  EarlyBird  \\\nOrg_y                                                                           \nAditya Birla Group                                               0          0   \nBMW Foundation Herbert Quandt                                    0          0   \nBuenos Aires Innovation Park (City of Buenos Ai...               0          0   \nC L Sandberg & Associates                                        0          0   \nCapital One                                                      1          1   \n\nOrg_x                                               Elpis Solar  \\\nOrg_y                                                             \nAditya Birla Group                                            0   \nBMW Foundation Herbert Quandt                                 0   \nBuenos Aires Innovation Park (City of Buenos Ai...            0   \nC L Sandberg & Associates                                     0   \nCapital One                                                   1   \n\nOrg_x                                               Faircap Clean Water  ...  \\\nOrg_y                                                                    ...   \nAditya Birla Group                                                    0  ...   \nBMW Foundation Herbert Quandt                                         0  ...   \nBuenos Aires Innovation Park (City of Buenos Ai...                    0  ...   \nC L Sandberg & Associates                                             0  ...   \nCapital One                                                           1  ...   \n\nOrg_x                                               RevelaGov  Rheaply  \\\nOrg_y                                                                    \nAditya Birla Group                                          0        1   \nBMW Foundation Herbert Quandt                               0        0   \nBuenos Aires Innovation Park (City of Buenos Ai...          0        0   \nC L Sandberg & Associates                                   0        0   \nCapital One                                                 1        1   \n\nOrg_x                                               Salauno: Eye care for all  \\\nOrg_y                                                                           \nAditya Birla Group                                                          1   \nBMW Foundation Herbert Quandt                                               0   \nBuenos Aires Innovation Park (City of Buenos Ai...                          0   \nC L Sandberg & Associates                                                   0   \nCapital One                                                                 1   \n\nOrg_x                                               Shape-Up  \\\nOrg_y                                                          \nAditya Birla Group                                         0   \nBMW Foundation Herbert Quandt                              0   \nBuenos Aires Innovation Park (City of Buenos Ai...         1   \nC L Sandberg & Associates                                  1   \nCapital One                                                1   \n\nOrg_x                                               Supercivicos app  \\\nOrg_y                                                                  \nAditya Birla Group                                                 0   \nBMW Foundation Herbert Quandt                                      0   \nBuenos Aires Innovation Park (City of Buenos Ai...                 0   \nC L Sandberg & Associates                                          0   \nCapital One                                                        1   \n\nOrg_x                                               Tabshoura Tiny Thinkers  \\\nOrg_y                                                                         \nAditya Birla Group                                                        1   \nBMW Foundation Herbert Quandt                                             0   \nBuenos Aires Innovation Park (City of Buenos Ai...                        0   \nC L Sandberg & Associates                                                 0   \nCapital One                                                               1   \n\nOrg_x                                               The Future is Offline  \\\nOrg_y                                                                       \nAditya Birla Group                                                      1   \nBMW Foundation Herbert Quandt                                           0   \nBuenos Aires Innovation Park (City of Buenos Ai...                      0   \nC L Sandberg & Associates                                               0   \nCapital One                                                             1   \n\nOrg_x                                               WheeLog!  Xilinat  \\\nOrg_y                                                                   \nAditya Birla Group                                         0        0   \nBMW Foundation Herbert Quandt                              0        0   \nBuenos Aires Innovation Park (City of Buenos Ai...         0        0   \nC L Sandberg & Associates                                  0        0   \nCapital One                                                1        1   \n\nOrg_x                                               change:WATER Labs' iThrone: a waste-shrinking toilet  \nOrg_y                                                                                                     \nAditya Birla Group                                                                                  0     \nBMW Foundation Herbert Quandt                                                                       0     \nBuenos Aires Innovation Park (City of Buenos Ai...                                                  1     \nC L Sandberg & Associates                                                                           1     \nCapital One                                                                                         1     \n\n[5 rows x 32 columns]",
      "text/html": "<div>\n<style scoped>\n    .dataframe tbody tr th:only-of-type {\n        vertical-align: middle;\n    }\n\n    .dataframe tbody tr th {\n        vertical-align: top;\n    }\n\n    .dataframe thead th {\n        text-align: right;\n    }\n</style>\n<table border=\"1\" class=\"dataframe\">\n  <thead>\n    <tr style=\"text-align: right;\">\n      <th>Org_x</th>\n      <th>AIR-INK: Air-Pollution to ink</th>\n      <th>Aira</th>\n      <th>Algramo-Catalyzing Reusable Packaging</th>\n      <th>BioCellection</th>\n      <th>Blue Sky Analytics</th>\n      <th>CareMother</th>\n      <th>Dost Education</th>\n      <th>EarlyBird</th>\n      <th>Elpis Solar</th>\n      <th>Faircap Clean Water</th>\n      <th>...</th>\n      <th>RevelaGov</th>\n      <th>Rheaply</th>\n      <th>Salauno: Eye care for all</th>\n      <th>Shape-Up</th>\n      <th>Supercivicos app</th>\n      <th>Tabshoura Tiny Thinkers</th>\n      <th>The Future is Offline</th>\n      <th>WheeLog!</th>\n      <th>Xilinat</th>\n      <th>change:WATER Labs' iThrone: a waste-shrinking toilet</th>\n    </tr>\n    <tr>\n      <th>Org_y</th>\n      <th></th>\n      <th></th>\n      <th></th>\n      <th></th>\n      <th></th>\n      <th></th>\n      <th></th>\n      <th></th>\n      <th></th>\n      <th></th>\n      <th></th>\n      <th></th>\n      <th></th>\n      <th></th>\n      <th></th>\n      <th></th>\n      <th></th>\n      <th></th>\n      <th></th>\n      <th></th>\n      <th></th>\n    </tr>\n  </thead>\n  <tbody>\n    <tr>\n      <th>Aditya Birla Group</th>\n      <td>1</td>\n      <td>1</td>\n      <td>1</td>\n      <td>0</td>\n      <td>0</td>\n      <td>1</td>\n      <td>0</td>\n      <td>0</td>\n      <td>0</td>\n      <td>0</td>\n      <td>...</td>\n      <td>0</td>\n      <td>1</td>\n      <td>1</td>\n      <td>0</td>\n      <td>0</td>\n      <td>1</td>\n      <td>1</td>\n      <td>0</td>\n      <td>0</td>\n      <td>0</td>\n    </tr>\n    <tr>\n      <th>BMW Foundation Herbert Quandt</th>\n      <td>0</td>\n      <td>1</td>\n      <td>0</td>\n      <td>0</td>\n      <td>0</td>\n      <td>0</td>\n      <td>0</td>\n      <td>0</td>\n      <td>0</td>\n      <td>0</td>\n      <td>...</td>\n      <td>0</td>\n      <td>0</td>\n      <td>0</td>\n      <td>0</td>\n      <td>0</td>\n      <td>0</td>\n      <td>0</td>\n      <td>0</td>\n      <td>0</td>\n      <td>0</td>\n    </tr>\n    <tr>\n      <th>Buenos Aires Innovation Park (City of Buenos Aires Government)</th>\n      <td>0</td>\n      <td>0</td>\n      <td>0</td>\n      <td>0</td>\n      <td>0</td>\n      <td>0</td>\n      <td>0</td>\n      <td>0</td>\n      <td>0</td>\n      <td>0</td>\n      <td>...</td>\n      <td>0</td>\n      <td>0</td>\n      <td>0</td>\n      <td>1</td>\n      <td>0</td>\n      <td>0</td>\n      <td>0</td>\n      <td>0</td>\n      <td>0</td>\n      <td>1</td>\n    </tr>\n    <tr>\n      <th>C L Sandberg &amp; Associates</th>\n      <td>0</td>\n      <td>0</td>\n      <td>0</td>\n      <td>0</td>\n      <td>0</td>\n      <td>0</td>\n      <td>0</td>\n      <td>0</td>\n      <td>0</td>\n      <td>0</td>\n      <td>...</td>\n      <td>0</td>\n      <td>0</td>\n      <td>0</td>\n      <td>1</td>\n      <td>0</td>\n      <td>0</td>\n      <td>0</td>\n      <td>0</td>\n      <td>0</td>\n      <td>1</td>\n    </tr>\n    <tr>\n      <th>Capital One</th>\n      <td>1</td>\n      <td>1</td>\n      <td>1</td>\n      <td>1</td>\n      <td>1</td>\n      <td>1</td>\n      <td>1</td>\n      <td>1</td>\n      <td>1</td>\n      <td>1</td>\n      <td>...</td>\n      <td>1</td>\n      <td>1</td>\n      <td>1</td>\n      <td>1</td>\n      <td>1</td>\n      <td>1</td>\n      <td>1</td>\n      <td>1</td>\n      <td>1</td>\n      <td>1</td>\n    </tr>\n  </tbody>\n</table>\n<p>5 rows × 32 columns</p>\n</div>"
     },
     "metadata": {},
     "execution_count": 15
    }
   ],
   "source": [
    "_,stage_pivot_copy = zebra.pivot_table_stage(st_solver, st_partners)\n",
    "stage_pivot_copy.head()"
   ]
  },
  {
   "cell_type": "markdown",
   "metadata": {
    "ExecuteTime": {
     "end_time": "2020-04-22T15:24:01.166053Z",
     "start_time": "2020-04-22T15:24:01.120205Z"
    }
   },
   "source": [
    "# Combining all the answers \n",
    "\n",
    "Once we have all the sheets, we combine them using the same heuristic calculation MIT did. This is given by the variable  ``` total_score ``` . Finally we write the result to an excel file. \n"
   ]
  },
  {
   "cell_type": "code",
   "execution_count": 19,
   "metadata": {
    "ExecuteTime": {
     "end_time": "2020-06-25T17:09:12.062715Z",
     "start_time": "2020-06-25T17:09:11.994149Z"
    }
   },
   "outputs": [],
   "source": [
    "total_score = ((geo_pivot_copy.astype(int)*stage_pivot_copy.astype(int))*100) + (challenges_pivot_copy.astype(int)*10 ) + needs_pivot_copy\n",
    "total_score.to_excel(\"total_score.xlsx\")"
   ]
  },
  {
   "cell_type": "code",
   "execution_count": null,
   "metadata": {
    "ExecuteTime": {
     "end_time": "2020-04-23T18:10:04.132148Z",
     "start_time": "2020-04-23T18:10:04.094310Z"
    }
   },
   "outputs": [],
   "source": []
  },
  {
   "cell_type": "code",
   "execution_count": null,
   "metadata": {},
   "outputs": [],
   "source": []
  },
  {
   "cell_type": "code",
   "execution_count": null,
   "metadata": {},
   "outputs": [],
   "source": []
  }
 ],
 "metadata": {
  "kernelspec": {
   "display_name": "Python 3",
   "language": "python",
   "name": "python3"
  },
  "language_info": {
   "codemirror_mode": {
    "name": "ipython",
    "version": 3
   },
   "file_extension": ".py",
   "mimetype": "text/x-python",
   "name": "python",
   "nbconvert_exporter": "python",
   "pygments_lexer": "ipython3",
   "version": "3.7.3"
  },
  "latex_envs": {
   "LaTeX_envs_menu_present": true,
   "autoclose": false,
   "autocomplete": true,
   "bibliofile": "biblio.bib",
   "cite_by": "apalike",
   "current_citInitial": 1,
   "eqLabelWithNumbers": true,
   "eqNumInitial": 1,
   "hotkeys": {
    "equation": "Ctrl-E",
    "itemize": "Ctrl-I"
   },
   "labels_anchors": false,
   "latex_user_defs": false,
   "report_style_numbering": false,
   "user_envs_cfg": false
  },
  "toc": {
   "base_numbering": 1,
   "nav_menu": {},
   "number_sections": false,
   "sideBar": true,
   "skip_h1_title": false,
   "title_cell": "Table of Contents",
   "title_sidebar": "Contents",
   "toc_cell": false,
   "toc_position": {
    "height": "calc(100% - 180px)",
    "left": "10px",
    "top": "150px",
    "width": "165px"
   },
   "toc_section_display": true,
   "toc_window_display": true
  },
  "varInspector": {
   "cols": {
    "lenName": 16,
    "lenType": 16,
    "lenVar": 40
   },
   "kernels_config": {
    "python": {
     "delete_cmd_postfix": "",
     "delete_cmd_prefix": "del ",
     "library": "var_list.py",
     "varRefreshCmd": "print(var_dic_list())"
    },
    "r": {
     "delete_cmd_postfix": ") ",
     "delete_cmd_prefix": "rm(",
     "library": "var_list.r",
     "varRefreshCmd": "cat(var_dic_list()) "
    }
   },
   "types_to_exclude": [
    "module",
    "function",
    "builtin_function_or_method",
    "instance",
    "_Feature"
   ],
   "window_display": false
  }
 },
 "nbformat": 4,
 "nbformat_minor": 2
}